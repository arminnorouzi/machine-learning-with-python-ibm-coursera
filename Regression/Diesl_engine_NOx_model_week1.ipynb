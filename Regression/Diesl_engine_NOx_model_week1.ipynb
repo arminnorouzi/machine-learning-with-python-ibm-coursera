{
 "cells": [
  {
   "cell_type": "markdown",
   "metadata": {},
   "source": [
    "### Importing Needed packages"
   ]
  },
  {
   "cell_type": "code",
   "execution_count": 21,
   "metadata": {},
   "outputs": [],
   "source": [
    "import matplotlib.pyplot as plt\n",
    "import pandas as pd\n",
    "import pylab as pl\n",
    "import numpy as np\n",
    "%matplotlib inline\n",
    "\n",
    "\n",
    "from sklearn import linear_model"
   ]
  },
  {
   "cell_type": "markdown",
   "metadata": {},
   "source": [
    "### Reading the data in"
   ]
  },
  {
   "cell_type": "code",
   "execution_count": 3,
   "metadata": {},
   "outputs": [
    {
     "data": {
      "text/html": [
       "<div>\n",
       "<style scoped>\n",
       "    .dataframe tbody tr th:only-of-type {\n",
       "        vertical-align: middle;\n",
       "    }\n",
       "\n",
       "    .dataframe tbody tr th {\n",
       "        vertical-align: top;\n",
       "    }\n",
       "\n",
       "    .dataframe thead th {\n",
       "        text-align: right;\n",
       "    }\n",
       "</style>\n",
       "<table border=\"1\" class=\"dataframe\">\n",
       "  <thead>\n",
       "    <tr style=\"text-align: right;\">\n",
       "      <th></th>\n",
       "      <th>Engine speed [rpm]</th>\n",
       "      <th>Injection amount [mg/stroke]</th>\n",
       "      <th>Fuel Rail Pressure Measured [psi]</th>\n",
       "      <th>Load [ft.lb]</th>\n",
       "      <th>NOx sensor [ppm]</th>\n",
       "    </tr>\n",
       "  </thead>\n",
       "  <tbody>\n",
       "    <tr>\n",
       "      <th>0</th>\n",
       "      <td>1012.972434</td>\n",
       "      <td>17.842621</td>\n",
       "      <td>10491.082273</td>\n",
       "      <td>65.0</td>\n",
       "      <td>447.378711</td>\n",
       "    </tr>\n",
       "    <tr>\n",
       "      <th>1</th>\n",
       "      <td>1013.326065</td>\n",
       "      <td>21.835041</td>\n",
       "      <td>10854.393509</td>\n",
       "      <td>80.0</td>\n",
       "      <td>519.147084</td>\n",
       "    </tr>\n",
       "    <tr>\n",
       "      <th>2</th>\n",
       "      <td>1013.061243</td>\n",
       "      <td>26.607644</td>\n",
       "      <td>11821.801967</td>\n",
       "      <td>95.0</td>\n",
       "      <td>594.816263</td>\n",
       "    </tr>\n",
       "    <tr>\n",
       "      <th>3</th>\n",
       "      <td>1162.430168</td>\n",
       "      <td>20.691577</td>\n",
       "      <td>14000.537602</td>\n",
       "      <td>50.0</td>\n",
       "      <td>315.653665</td>\n",
       "    </tr>\n",
       "    <tr>\n",
       "      <th>4</th>\n",
       "      <td>1163.733231</td>\n",
       "      <td>25.109175</td>\n",
       "      <td>14498.228219</td>\n",
       "      <td>75.0</td>\n",
       "      <td>433.740917</td>\n",
       "    </tr>\n",
       "  </tbody>\n",
       "</table>\n",
       "</div>"
      ],
      "text/plain": [
       "   Engine speed [rpm]  Injection amount [mg/stroke]  \\\n",
       "0         1012.972434                     17.842621   \n",
       "1         1013.326065                     21.835041   \n",
       "2         1013.061243                     26.607644   \n",
       "3         1162.430168                     20.691577   \n",
       "4         1163.733231                     25.109175   \n",
       "\n",
       "   Fuel Rail Pressure Measured [psi]  Load [ft.lb]  NOx sensor [ppm]  \n",
       "0                       10491.082273          65.0        447.378711  \n",
       "1                       10854.393509          80.0        519.147084  \n",
       "2                       11821.801967          95.0        594.816263  \n",
       "3                       14000.537602          50.0        315.653665  \n",
       "4                       14498.228219          75.0        433.740917  "
      ]
     },
     "execution_count": 3,
     "metadata": {},
     "output_type": "execute_result"
    }
   ],
   "source": [
    "df = pd.read_csv(\"My_data\\\\NOx_only_ML_data.csv\")\n",
    "\n",
    "# take a look at the dataset\n",
    "df.head()\n"
   ]
  },
  {
   "cell_type": "code",
   "execution_count": 8,
   "metadata": {},
   "outputs": [
    {
     "data": {
      "text/html": [
       "<div>\n",
       "<style scoped>\n",
       "    .dataframe tbody tr th:only-of-type {\n",
       "        vertical-align: middle;\n",
       "    }\n",
       "\n",
       "    .dataframe tbody tr th {\n",
       "        vertical-align: top;\n",
       "    }\n",
       "\n",
       "    .dataframe thead th {\n",
       "        text-align: right;\n",
       "    }\n",
       "</style>\n",
       "<table border=\"1\" class=\"dataframe\">\n",
       "  <thead>\n",
       "    <tr style=\"text-align: right;\">\n",
       "      <th></th>\n",
       "      <th>Engine speed [rpm]</th>\n",
       "      <th>Injection amount [mg/stroke]</th>\n",
       "      <th>Fuel Rail Pressure Measured [psi]</th>\n",
       "      <th>Load [ft.lb]</th>\n",
       "      <th>NOx sensor [ppm]</th>\n",
       "    </tr>\n",
       "  </thead>\n",
       "  <tbody>\n",
       "    <tr>\n",
       "      <th>0</th>\n",
       "      <td>1012.972434</td>\n",
       "      <td>17.842621</td>\n",
       "      <td>10491.082273</td>\n",
       "      <td>65.0</td>\n",
       "      <td>447.378711</td>\n",
       "    </tr>\n",
       "    <tr>\n",
       "      <th>1</th>\n",
       "      <td>1013.326065</td>\n",
       "      <td>21.835041</td>\n",
       "      <td>10854.393509</td>\n",
       "      <td>80.0</td>\n",
       "      <td>519.147084</td>\n",
       "    </tr>\n",
       "    <tr>\n",
       "      <th>2</th>\n",
       "      <td>1013.061243</td>\n",
       "      <td>26.607644</td>\n",
       "      <td>11821.801967</td>\n",
       "      <td>95.0</td>\n",
       "      <td>594.816263</td>\n",
       "    </tr>\n",
       "    <tr>\n",
       "      <th>3</th>\n",
       "      <td>1162.430168</td>\n",
       "      <td>20.691577</td>\n",
       "      <td>14000.537602</td>\n",
       "      <td>50.0</td>\n",
       "      <td>315.653665</td>\n",
       "    </tr>\n",
       "    <tr>\n",
       "      <th>4</th>\n",
       "      <td>1163.733231</td>\n",
       "      <td>25.109175</td>\n",
       "      <td>14498.228219</td>\n",
       "      <td>75.0</td>\n",
       "      <td>433.740917</td>\n",
       "    </tr>\n",
       "    <tr>\n",
       "      <th>5</th>\n",
       "      <td>1163.335060</td>\n",
       "      <td>30.027807</td>\n",
       "      <td>14919.671848</td>\n",
       "      <td>100.0</td>\n",
       "      <td>535.414863</td>\n",
       "    </tr>\n",
       "    <tr>\n",
       "      <th>6</th>\n",
       "      <td>1162.973658</td>\n",
       "      <td>32.745473</td>\n",
       "      <td>14988.927889</td>\n",
       "      <td>125.0</td>\n",
       "      <td>631.458670</td>\n",
       "    </tr>\n",
       "    <tr>\n",
       "      <th>7</th>\n",
       "      <td>1163.017453</td>\n",
       "      <td>33.640447</td>\n",
       "      <td>15003.329149</td>\n",
       "      <td>135.0</td>\n",
       "      <td>675.008411</td>\n",
       "    </tr>\n",
       "    <tr>\n",
       "      <th>8</th>\n",
       "      <td>1147.766234</td>\n",
       "      <td>37.114610</td>\n",
       "      <td>15048.668831</td>\n",
       "      <td>150.0</td>\n",
       "      <td>679.130598</td>\n",
       "    </tr>\n",
       "  </tbody>\n",
       "</table>\n",
       "</div>"
      ],
      "text/plain": [
       "   Engine speed [rpm]  Injection amount [mg/stroke]  \\\n",
       "0         1012.972434                     17.842621   \n",
       "1         1013.326065                     21.835041   \n",
       "2         1013.061243                     26.607644   \n",
       "3         1162.430168                     20.691577   \n",
       "4         1163.733231                     25.109175   \n",
       "5         1163.335060                     30.027807   \n",
       "6         1162.973658                     32.745473   \n",
       "7         1163.017453                     33.640447   \n",
       "8         1147.766234                     37.114610   \n",
       "\n",
       "   Fuel Rail Pressure Measured [psi]  Load [ft.lb]  NOx sensor [ppm]  \n",
       "0                       10491.082273          65.0        447.378711  \n",
       "1                       10854.393509          80.0        519.147084  \n",
       "2                       11821.801967          95.0        594.816263  \n",
       "3                       14000.537602          50.0        315.653665  \n",
       "4                       14498.228219          75.0        433.740917  \n",
       "5                       14919.671848         100.0        535.414863  \n",
       "6                       14988.927889         125.0        631.458670  \n",
       "7                       15003.329149         135.0        675.008411  \n",
       "8                       15048.668831         150.0        679.130598  "
      ]
     },
     "execution_count": 8,
     "metadata": {},
     "output_type": "execute_result"
    }
   ],
   "source": [
    "cdf = df[['Engine speed [rpm]','Injection amount [mg/stroke]','Fuel Rail Pressure Measured [psi]',\n",
    "           'Load [ft.lb]','NOx sensor [ppm]']]\n",
    "cdf.head(9)"
   ]
  },
  {
   "cell_type": "markdown",
   "metadata": {},
   "source": [
    "### Data Exploration"
   ]
  },
  {
   "cell_type": "code",
   "execution_count": 9,
   "metadata": {},
   "outputs": [
    {
     "data": {
      "text/html": [
       "<div>\n",
       "<style scoped>\n",
       "    .dataframe tbody tr th:only-of-type {\n",
       "        vertical-align: middle;\n",
       "    }\n",
       "\n",
       "    .dataframe tbody tr th {\n",
       "        vertical-align: top;\n",
       "    }\n",
       "\n",
       "    .dataframe thead th {\n",
       "        text-align: right;\n",
       "    }\n",
       "</style>\n",
       "<table border=\"1\" class=\"dataframe\">\n",
       "  <thead>\n",
       "    <tr style=\"text-align: right;\">\n",
       "      <th></th>\n",
       "      <th>Engine speed [rpm]</th>\n",
       "      <th>Injection amount [mg/stroke]</th>\n",
       "      <th>Fuel Rail Pressure Measured [psi]</th>\n",
       "      <th>Load [ft.lb]</th>\n",
       "      <th>NOx sensor [ppm]</th>\n",
       "    </tr>\n",
       "  </thead>\n",
       "  <tbody>\n",
       "    <tr>\n",
       "      <th>count</th>\n",
       "      <td>170.000000</td>\n",
       "      <td>170.000000</td>\n",
       "      <td>170.000000</td>\n",
       "      <td>170.000000</td>\n",
       "      <td>170.000000</td>\n",
       "    </tr>\n",
       "    <tr>\n",
       "      <th>mean</th>\n",
       "      <td>1679.718294</td>\n",
       "      <td>52.114394</td>\n",
       "      <td>13552.153210</td>\n",
       "      <td>169.749651</td>\n",
       "      <td>334.909800</td>\n",
       "    </tr>\n",
       "    <tr>\n",
       "      <th>std</th>\n",
       "      <td>407.625586</td>\n",
       "      <td>22.517723</td>\n",
       "      <td>1571.424537</td>\n",
       "      <td>84.257892</td>\n",
       "      <td>189.254382</td>\n",
       "    </tr>\n",
       "    <tr>\n",
       "      <th>min</th>\n",
       "      <td>1001.000000</td>\n",
       "      <td>16.800000</td>\n",
       "      <td>10117.170070</td>\n",
       "      <td>48.751734</td>\n",
       "      <td>98.494938</td>\n",
       "    </tr>\n",
       "    <tr>\n",
       "      <th>25%</th>\n",
       "      <td>1361.039779</td>\n",
       "      <td>33.470278</td>\n",
       "      <td>12204.625000</td>\n",
       "      <td>100.000000</td>\n",
       "      <td>190.131700</td>\n",
       "    </tr>\n",
       "    <tr>\n",
       "      <th>50%</th>\n",
       "      <td>1637.749373</td>\n",
       "      <td>47.077694</td>\n",
       "      <td>14072.148041</td>\n",
       "      <td>160.000000</td>\n",
       "      <td>287.031816</td>\n",
       "    </tr>\n",
       "    <tr>\n",
       "      <th>75%</th>\n",
       "      <td>2000.000000</td>\n",
       "      <td>68.389414</td>\n",
       "      <td>14903.027389</td>\n",
       "      <td>225.000000</td>\n",
       "      <td>415.582013</td>\n",
       "    </tr>\n",
       "    <tr>\n",
       "      <th>max</th>\n",
       "      <td>2506.771304</td>\n",
       "      <td>107.634716</td>\n",
       "      <td>17250.674419</td>\n",
       "      <td>380.000000</td>\n",
       "      <td>903.862128</td>\n",
       "    </tr>\n",
       "  </tbody>\n",
       "</table>\n",
       "</div>"
      ],
      "text/plain": [
       "       Engine speed [rpm]  Injection amount [mg/stroke]  \\\n",
       "count          170.000000                    170.000000   \n",
       "mean          1679.718294                     52.114394   \n",
       "std            407.625586                     22.517723   \n",
       "min           1001.000000                     16.800000   \n",
       "25%           1361.039779                     33.470278   \n",
       "50%           1637.749373                     47.077694   \n",
       "75%           2000.000000                     68.389414   \n",
       "max           2506.771304                    107.634716   \n",
       "\n",
       "       Fuel Rail Pressure Measured [psi]  Load [ft.lb]  NOx sensor [ppm]  \n",
       "count                         170.000000    170.000000        170.000000  \n",
       "mean                        13552.153210    169.749651        334.909800  \n",
       "std                          1571.424537     84.257892        189.254382  \n",
       "min                         10117.170070     48.751734         98.494938  \n",
       "25%                         12204.625000    100.000000        190.131700  \n",
       "50%                         14072.148041    160.000000        287.031816  \n",
       "75%                         14903.027389    225.000000        415.582013  \n",
       "max                         17250.674419    380.000000        903.862128  "
      ]
     },
     "execution_count": 9,
     "metadata": {},
     "output_type": "execute_result"
    }
   ],
   "source": [
    "# summarize the data\n",
    "df.describe()"
   ]
  },
  {
   "cell_type": "code",
   "execution_count": 10,
   "metadata": {},
   "outputs": [
    {
     "data": {
      "image/png": "[encoded data removed]",
      "text/plain": [
       "<Figure size 432x288 with 6 Axes>"
      ]
     },
     "metadata": {
      "needs_background": "light"
     },
     "output_type": "display_data"
    }
   ],
   "source": [
    "viz = cdf[['Engine speed [rpm]','Injection amount [mg/stroke]','Fuel Rail Pressure Measured [psi]',\n",
    "           'Load [ft.lb]','NOx sensor [ppm]']]\n",
    "viz.hist()\n",
    "plt.show()"
   ]
  },
  {
   "cell_type": "code",
   "execution_count": 12,
   "metadata": {},
   "outputs": [
    {
     "data": {
      "image/png": "[encoded data removed]",
      "text/plain": [
       "<Figure size 432x288 with 1 Axes>"
      ]
     },
     "metadata": {
      "needs_background": "light"
     },
     "output_type": "display_data"
    }
   ],
   "source": [
    "plt.scatter(cdf['Engine speed [rpm]'], cdf['NOx sensor [ppm]'],  color='blue')\n",
    "plt.xlabel(\"Engine speed [rpm]\")\n",
    "plt.ylabel(\"NOx sensor [ppm]\")\n",
    "plt.show()"
   ]
  },
  {
   "cell_type": "code",
   "execution_count": 13,
   "metadata": {},
   "outputs": [
    {
     "data": {
      "image/png": "[encoded data removed]",
      "text/plain": [
       "<Figure size 432x288 with 1 Axes>"
      ]
     },
     "metadata": {
      "needs_background": "light"
     },
     "output_type": "display_data"
    }
   ],
   "source": [
    "plt.scatter(cdf['Injection amount [mg/stroke]'], cdf['NOx sensor [ppm]'],  color='blue')\n",
    "plt.xlabel(\"Injection amount [mg/stroke]\")\n",
    "plt.ylabel(\"NOx sensor [ppm]\")\n",
    "plt.show()"
   ]
  },
  {
   "cell_type": "code",
   "execution_count": 14,
   "metadata": {},
   "outputs": [
    {
     "data": {
      "image/png": "[encoded data removed]",
      "text/plain": [
       "<Figure size 432x288 with 1 Axes>"
      ]
     },
     "metadata": {
      "needs_background": "light"
     },
     "output_type": "display_data"
    }
   ],
   "source": [
    "plt.scatter(cdf['Fuel Rail Pressure Measured [psi]'], cdf['NOx sensor [ppm]'],  color='blue')\n",
    "plt.xlabel(\"Fuel Rail Pressure Measured [psi]\")\n",
    "plt.ylabel(\"NOx sensor [ppm]\")\n",
    "plt.show()"
   ]
  },
  {
   "cell_type": "markdown",
   "metadata": {},
   "source": [
    "### Creating train and test dataset\n",
    "\n",
    "Train/Test Split involves splitting the dataset into training and testing sets respectively, which are mutually exclusive. After which, you train with the training set and test with the testing set. This will provide a more accurate evaluation on out-of-sample accuracy because the testing dataset is not part of the dataset that have been used to train the data. It is more realistic for real world problems.\n",
    "\n",
    "This means that we know the outcome of each data point in this dataset, making it great to test with! And since this data has not been used to train the model, the model has no knowledge of the outcome of these data points. So, in essence, it is truly an out-of-sample testing.\n",
    "\n",
    "Lets split our dataset into train and test sets, 80% of the entire data for training, and the 20% for testing. We create a mask to select random rows using np.random.rand() function:\n",
    "\n"
   ]
  },
  {
   "cell_type": "code",
   "execution_count": 15,
   "metadata": {},
   "outputs": [],
   "source": [
    "msk = np.random.rand(len(df)) < 0.8\n",
    "train = cdf[msk]\n",
    "test = cdf[~msk]"
   ]
  },
  {
   "cell_type": "markdown",
   "metadata": {},
   "source": [
    "<h2 id=\"simple_regression\">Simple Regression Model</h2>\n",
    "Linear Regression fits a linear model with coefficients $\\theta = (\\theta_1, ..., \\theta_n)$ to minimize the 'residual sum of squares' between the independent x in the dataset, and the dependent y by the linear approximation. "
   ]
  },
  {
   "cell_type": "code",
   "execution_count": 20,
   "metadata": {},
   "outputs": [
    {
     "data": {
      "image/png": "[encoded data removed]",
      "text/plain": [
       "<Figure size 432x288 with 1 Axes>"
      ]
     },
     "metadata": {
      "needs_background": "light"
     },
     "output_type": "display_data"
    }
   ],
   "source": [
    "plt.scatter(train['Injection amount [mg/stroke]'], train['NOx sensor [ppm]'],  color='blue',label = 'training data')\n",
    "plt.scatter(test['Injection amount [mg/stroke]'], test['NOx sensor [ppm]'],  color='red',label = 'test data')\n",
    "plt.xlabel(\"Injection amount [mg/stroke]\")\n",
    "plt.ylabel(\"NOx sensor [ppm]\")\n",
    "plt.legend()\n",
    "plt.show()\n"
   ]
  },
  {
   "cell_type": "code",
   "execution_count": 28,
   "metadata": {},
   "outputs": [
    {
     "name": "stdout",
     "output_type": "stream",
     "text": [
      "Coefficients:  [[0.0060509]]\n",
      "Intercept:  [337.81325536]\n"
     ]
    }
   ],
   "source": [
    "regr = linear_model.LinearRegression()\n",
    "train_x = np.asanyarray(train[['Injection amount [mg/stroke]']])\n",
    "train_y = np.asanyarray(train[['NOx sensor [ppm]']])\n",
    "regr.fit (train_x, train_y)\n",
    "# The coefficients\n",
    "print ('Coefficients: ', regr.coef_)\n",
    "print ('Intercept: ',regr.intercept_)"
   ]
  },
  {
   "cell_type": "code",
   "execution_count": 30,
   "metadata": {},
   "outputs": [
    {
     "data": {
      "text/plain": [
       "<matplotlib.legend.Legend at 0x209303478c8>"
      ]
     },
     "execution_count": 30,
     "metadata": {},
     "output_type": "execute_result"
    },
    {
     "data": {
      "image/png": "[encoded data removed]",
      "text/plain": [
       "<Figure size 432x288 with 1 Axes>"
      ]
     },
     "metadata": {
      "needs_background": "light"
     },
     "output_type": "display_data"
    }
   ],
   "source": [
    "plt.scatter(train['Injection amount [mg/stroke]'], train['NOx sensor [ppm]'],  color='blue',label = 'training data')\n",
    "plt.plot(train_x, regr.coef_[0][0]*train_x + regr.intercept_[0], '-r', label = 'regression model')\n",
    "plt.xlabel(\"Injection amount [mg/stroke]\")\n",
    "plt.ylabel(\"NOx sensor [ppm]\")\n",
    "plt.legend()"
   ]
  },
  {
   "cell_type": "code",
   "execution_count": 31,
   "metadata": {},
   "outputs": [
    {
     "name": "stdout",
     "output_type": "stream",
     "text": [
      "Mean absolute error: 157.71\n",
      "Residual sum of squares (MSE): 40288.94\n",
      "R2-score: -4366563.31\n"
     ]
    }
   ],
   "source": [
    "from sklearn.metrics import r2_score\n",
    "\n",
    "test_x = np.asanyarray(test[['Injection amount [mg/stroke]']])\n",
    "test_y = np.asanyarray(test[['NOx sensor [ppm]']])\n",
    "test_y_hat = regr.predict(test_x)\n",
    "\n",
    "print(\"Mean absolute error: %.2f\" % np.mean(np.absolute(test_y_hat - test_y)))\n",
    "print(\"Residual sum of squares (MSE): %.2f\" % np.mean((test_y_hat - test_y) ** 2))\n",
    "print(\"R2-score: %.2f\" % r2_score(test_y_hat , test_y) )"
   ]
  },
  {
   "cell_type": "markdown",
   "metadata": {},
   "source": [
    "<h2 id=\"multiple_regression_model\">Multiple Regression Model</h2>\n",
    "\n",
    "\n",
    "In reality, there are multiple variables that predict the Co2emission. When more than one independent variable is present, the process is called multiple linear regression. For example, predicting co2emission using FUELCONSUMPTION_COMB, EngineSize and Cylinders of cars. The good thing here is that Multiple linear regression is the extension of simple linear regression model."
   ]
  },
  {
   "cell_type": "code",
   "execution_count": 35,
   "metadata": {},
   "outputs": [
    {
     "name": "stdout",
     "output_type": "stream",
     "text": [
      "Coefficients:  [[-0.45327745  4.36552498  0.06148169]]\n"
     ]
    }
   ],
   "source": [
    "from sklearn import linear_model\n",
    "regr = linear_model.LinearRegression()\n",
    "x = np.asanyarray(train[['Engine speed [rpm]','Injection amount [mg/stroke]','Fuel Rail Pressure Measured [psi]']])\n",
    "y = np.asanyarray(train[['NOx sensor [ppm]']])\n",
    "regr.fit (x, y)\n",
    "# The coefficients\n",
    "print ('Coefficients: ', regr.coef_)"
   ]
  },
  {
   "cell_type": "markdown",
   "metadata": {},
   "source": [
    "### Prediction"
   ]
  },
  {
   "cell_type": "code",
   "execution_count": 57,
   "metadata": {},
   "outputs": [
    {
     "name": "stdout",
     "output_type": "stream",
     "text": [
      "Residual sum of squares: 9579.73\n",
      "Variance score: 0.76\n"
     ]
    }
   ],
   "source": [
    "y_hat_train= regr.predict(train[['Engine speed [rpm]','Injection amount [mg/stroke]','Fuel Rail Pressure Measured [psi]']])\n",
    "\n",
    "y_hat_test= regr.predict(test[['Engine speed [rpm]','Injection amount [mg/stroke]','Fuel Rail Pressure Measured [psi]']])\n",
    "x = np.asanyarray(test[['Engine speed [rpm]','Injection amount [mg/stroke]','Fuel Rail Pressure Measured [psi]']])\n",
    "y = np.asanyarray(test[['NOx sensor [ppm]']])\n",
    "print(\"Residual sum of squares: %.2f\"\n",
    "      % np.mean((y_hat_test - y) ** 2))\n",
    "\n",
    "# Explained variance score: 1 is perfect prediction\n",
    "print('Variance score: %.2f' % regr.score(x, y))"
   ]
  },
  {
   "cell_type": "markdown",
   "metadata": {},
   "source": [
    "### Model vs Experiment"
   ]
  },
  {
   "cell_type": "code",
   "execution_count": 61,
   "metadata": {},
   "outputs": [
    {
     "data": {
      "text/plain": [
       "<matplotlib.legend.Legend at 0x20930be21c8>"
      ]
     },
     "execution_count": 61,
     "metadata": {},
     "output_type": "execute_result"
    },
    {
     "data": {
      "image/png": "[encoded data removed]",
      "text/plain": [
       "<Figure size 432x288 with 1 Axes>"
      ]
     },
     "metadata": {
      "needs_background": "light"
     },
     "output_type": "display_data"
    }
   ],
   "source": [
    "plt.plot([-50,1050],[-50,1050],  color='crimson')\n",
    "plt.scatter(y_hat_test, test['NOx sensor [ppm]'],  color='deepskyblue',label = 'test data')\n",
    "plt.scatter(y_hat_train, train['NOx sensor [ppm]'],  color='black',label = 'train data')\n",
    "# plt.plot(train_x, regr.coef_[0][0]*train_x + regr.intercept_[0], '-r', label = 'regression model')\n",
    "plt.xlabel(\"NOx prediction [ppm]\")\n",
    "plt.ylabel(\"NOx experiment [ppm]\")\n",
    "plt.xlim(0, 1000)\n",
    "plt.ylim(0, 1000)\n",
    "plt.gca().set_aspect('equal', adjustable='box')\n",
    "plt.legend()"
   ]
  },
  {
   "cell_type": "markdown",
   "metadata": {},
   "source": [
    "## Nonlinear regression"
   ]
  },
  {
   "cell_type": "code",
   "execution_count": 74,
   "metadata": {},
   "outputs": [
    {
     "data": {
      "text/plain": [
       "array([[1.00000000e+00, 1.78426209e+01, 3.18359119e+02],\n",
       "       [1.00000000e+00, 2.18350406e+01, 4.76768997e+02],\n",
       "       [1.00000000e+00, 2.66076442e+01, 7.07966728e+02],\n",
       "       [1.00000000e+00, 2.06915771e+01, 4.28141364e+02],\n",
       "       [1.00000000e+00, 2.51091750e+01, 6.30470670e+02],\n",
       "       [1.00000000e+00, 3.00278066e+01, 9.01669167e+02],\n",
       "       [1.00000000e+00, 3.27454725e+01, 1.07226597e+03],\n",
       "       [1.00000000e+00, 3.71146104e+01, 1.37749430e+03],\n",
       "       [1.00000000e+00, 3.88142827e+01, 1.50654854e+03],\n",
       "       [1.00000000e+00, 4.27300117e+01, 1.82585390e+03],\n",
       "       [1.00000000e+00, 4.51650102e+01, 2.03987815e+03],\n",
       "       [1.00000000e+00, 5.28475059e+01, 2.79285888e+03],\n",
       "       [1.00000000e+00, 5.64646148e+01, 3.18825272e+03],\n",
       "       [1.00000000e+00, 2.56385542e+01, 6.57335462e+02],\n",
       "       [1.00000000e+00, 3.29434343e+01, 1.08526987e+03],\n",
       "       [1.00000000e+00, 3.88984218e+01, 1.51308722e+03],\n",
       "       [1.00000000e+00, 4.46956785e+01, 1.99770368e+03],\n",
       "       [1.00000000e+00, 5.15452598e+01, 2.65691381e+03],\n",
       "       [1.00000000e+00, 5.55863534e+01, 3.08984268e+03],\n",
       "       [1.00000000e+00, 5.96554773e+01, 3.55877597e+03],\n",
       "       [1.00000000e+00, 2.18362832e+01, 4.76823263e+02],\n",
       "       [1.00000000e+00, 2.70365969e+01, 7.30977572e+02],\n",
       "       [1.00000000e+00, 3.96330241e+01, 1.57077660e+03],\n",
       "       [1.00000000e+00, 4.05123513e+01, 1.64125061e+03],\n",
       "       [1.00000000e+00, 4.30052109e+01, 1.84944817e+03],\n",
       "       [1.00000000e+00, 4.70268172e+01, 2.21152154e+03],\n",
       "       [1.00000000e+00, 5.02815534e+01, 2.52823461e+03],\n",
       "       [1.00000000e+00, 5.68386544e+01, 3.23063263e+03],\n",
       "       [1.00000000e+00, 6.36291291e+01, 4.04866607e+03],\n",
       "       [1.00000000e+00, 7.09501468e+01, 5.03392333e+03],\n",
       "       [1.00000000e+00, 2.33211009e+01, 5.43873748e+02],\n",
       "       [1.00000000e+00, 3.28777778e+01, 1.08094827e+03],\n",
       "       [1.00000000e+00, 7.27031250e+01, 5.28574438e+03],\n",
       "       [1.00000000e+00, 7.98201266e+01, 6.37125261e+03],\n",
       "       [1.00000000e+00, 8.71912324e+01, 7.60231101e+03],\n",
       "       [1.00000000e+00, 9.89583000e+01, 9.79274514e+03],\n",
       "       [1.00000000e+00, 1.05045748e+02, 1.10346092e+04],\n",
       "       [1.00000000e+00, 1.07634716e+02, 1.15852320e+04],\n",
       "       [1.00000000e+00, 2.72742158e+01, 7.43882845e+02],\n",
       "       [1.00000000e+00, 3.62774570e+01, 1.31605389e+03],\n",
       "       [1.00000000e+00, 5.15543192e+01, 2.65784783e+03],\n",
       "       [1.00000000e+00, 6.05166008e+01, 3.66225897e+03],\n",
       "       [1.00000000e+00, 6.93867275e+01, 4.81451795e+03],\n",
       "       [1.00000000e+00, 7.85425325e+01, 6.16892941e+03],\n",
       "       [1.00000000e+00, 8.76119465e+01, 7.67585318e+03],\n",
       "       [1.00000000e+00, 9.60566187e+01, 9.22687400e+03],\n",
       "       [1.00000000e+00, 1.02595111e+02, 1.05257568e+04],\n",
       "       [1.00000000e+00, 2.97945946e+01, 8.87717867e+02],\n",
       "       [1.00000000e+00, 3.79386364e+01, 1.43934013e+03],\n",
       "       [1.00000000e+00, 5.00955556e+01, 2.50956469e+03],\n",
       "       [1.00000000e+00, 7.90737705e+01, 6.25266118e+03],\n",
       "       [1.00000000e+00, 8.68138614e+01, 7.53664653e+03],\n",
       "       [1.00000000e+00, 9.77530928e+01, 9.55566715e+03],\n",
       "       [1.00000000e+00, 2.64466667e+01, 6.99426178e+02],\n",
       "       [1.00000000e+00, 3.54951220e+01, 1.25990368e+03],\n",
       "       [1.00000000e+00, 4.71285714e+01, 2.22110224e+03],\n",
       "       [1.00000000e+00, 5.43394737e+01, 2.95277840e+03],\n",
       "       [1.00000000e+00, 6.17310345e+01, 3.81072062e+03],\n",
       "       [1.00000000e+00, 7.76500000e+01, 6.02952250e+03],\n",
       "       [1.00000000e+00, 8.45682927e+01, 7.15179613e+03],\n",
       "       [1.00000000e+00, 9.19146497e+01, 8.44830283e+03],\n",
       "       [1.00000000e+00, 9.60634712e+01, 9.22819051e+03],\n",
       "       [1.00000000e+00, 3.13221429e+01, 9.81076633e+02],\n",
       "       [1.00000000e+00, 3.69082233e+01, 1.36221695e+03],\n",
       "       [1.00000000e+00, 4.69837344e+01, 2.20747130e+03],\n",
       "       [1.00000000e+00, 5.79779101e+01, 3.36143805e+03],\n",
       "       [1.00000000e+00, 7.16294727e+01, 5.13078136e+03],\n",
       "       [1.00000000e+00, 7.76364577e+01, 6.02741957e+03],\n",
       "       [1.00000000e+00, 8.25637427e+01, 6.81677161e+03],\n",
       "       [1.00000000e+00, 8.63735242e+01, 7.46038567e+03],\n",
       "       [1.00000000e+00, 3.34135554e+01, 1.11646568e+03],\n",
       "       [1.00000000e+00, 4.12543042e+01, 1.70191762e+03],\n",
       "       [1.00000000e+00, 5.16055556e+01, 2.66313336e+03],\n",
       "       [1.00000000e+00, 6.12208397e+01, 3.74799121e+03],\n",
       "       [1.00000000e+00, 6.84192181e+01, 4.68118940e+03],\n",
       "       [1.00000000e+00, 7.17776402e+01, 5.15202963e+03],\n",
       "       [1.00000000e+00, 2.18185185e+01, 4.76047750e+02],\n",
       "       [1.00000000e+00, 2.99278297e+01, 8.95674991e+02],\n",
       "       [1.00000000e+00, 3.88388889e+01, 1.50845929e+03],\n",
       "       [1.00000000e+00, 4.02843750e+01, 1.62283087e+03],\n",
       "       [1.00000000e+00, 5.17452888e+01, 2.67757491e+03],\n",
       "       [1.00000000e+00, 8.06102167e+01, 6.49800704e+03],\n",
       "       [1.00000000e+00, 9.55816934e+01, 9.13586011e+03],\n",
       "       [1.00000000e+00, 3.47651623e+01, 1.20861651e+03],\n",
       "       [1.00000000e+00, 4.48896024e+01, 2.01507641e+03],\n",
       "       [1.00000000e+00, 5.82356017e+01, 3.39138530e+03],\n",
       "       [1.00000000e+00, 2.03873573e+01, 4.15644338e+02],\n",
       "       [1.00000000e+00, 3.85514323e+01, 1.48621293e+03],\n",
       "       [1.00000000e+00, 4.56283582e+01, 2.08194707e+03],\n",
       "       [1.00000000e+00, 2.44397857e+01, 5.97303126e+02],\n",
       "       [1.00000000e+00, 2.67980000e+01, 7.18132804e+02],\n",
       "       [1.00000000e+00, 4.80198020e+01, 2.30590138e+03],\n",
       "       [1.00000000e+00, 2.25000000e+01, 5.06250000e+02],\n",
       "       [1.00000000e+00, 2.98000000e+01, 8.88040000e+02],\n",
       "       [1.00000000e+00, 2.76000000e+01, 7.61760000e+02],\n",
       "       [1.00000000e+00, 3.09000000e+01, 9.54810000e+02],\n",
       "       [1.00000000e+00, 3.33000000e+01, 1.10889000e+03],\n",
       "       [1.00000000e+00, 5.04000000e+01, 2.54016000e+03],\n",
       "       [1.00000000e+00, 2.84000000e+01, 8.06560000e+02],\n",
       "       [1.00000000e+00, 3.36797535e+01, 1.13432580e+03],\n",
       "       [1.00000000e+00, 4.00000000e+01, 1.60000000e+03],\n",
       "       [1.00000000e+00, 4.51684210e+01, 2.04018626e+03],\n",
       "       [1.00000000e+00, 5.98529730e+01, 3.58237837e+03],\n",
       "       [1.00000000e+00, 7.36000000e+01, 5.41696000e+03],\n",
       "       [1.00000000e+00, 8.07924051e+01, 6.52741272e+03],\n",
       "       [1.00000000e+00, 8.81466667e+01, 7.76983485e+03],\n",
       "       [1.00000000e+00, 9.56453125e+01, 9.14802580e+03],\n",
       "       [1.00000000e+00, 1.02250340e+02, 1.04551321e+04],\n",
       "       [1.00000000e+00, 2.56384615e+01, 6.57330710e+02],\n",
       "       [1.00000000e+00, 3.06755853e+01, 9.40991532e+02],\n",
       "       [1.00000000e+00, 3.49000000e+01, 1.21801000e+03],\n",
       "       [1.00000000e+00, 5.20449541e+01, 2.70867725e+03],\n",
       "       [1.00000000e+00, 5.84000000e+01, 3.41056000e+03],\n",
       "       [1.00000000e+00, 6.75000000e+01, 4.55625000e+03],\n",
       "       [1.00000000e+00, 7.39513812e+01, 5.46880678e+03],\n",
       "       [1.00000000e+00, 8.25000000e+01, 6.80625000e+03],\n",
       "       [1.00000000e+00, 8.93575949e+01, 7.98477977e+03],\n",
       "       [1.00000000e+00, 9.52133779e+01, 9.06558734e+03],\n",
       "       [1.00000000e+00, 2.74000000e+01, 7.50760000e+02],\n",
       "       [1.00000000e+00, 3.11000000e+01, 9.67210000e+02],\n",
       "       [1.00000000e+00, 4.20034722e+01, 1.76429168e+03],\n",
       "       [1.00000000e+00, 4.76000000e+01, 2.26576000e+03],\n",
       "       [1.00000000e+00, 5.59000000e+01, 3.12481000e+03],\n",
       "       [1.00000000e+00, 6.41000000e+01, 4.10881000e+03],\n",
       "       [1.00000000e+00, 7.87284974e+01, 6.19817630e+03],\n",
       "       [1.00000000e+00, 8.42000000e+01, 7.08964000e+03],\n",
       "       [1.00000000e+00, 3.41000000e+01, 1.16281000e+03],\n",
       "       [1.00000000e+00, 3.91000000e+01, 1.52881000e+03],\n",
       "       [1.00000000e+00, 4.60025135e+01, 2.11623124e+03],\n",
       "       [1.00000000e+00, 6.29000000e+01, 3.95641000e+03],\n",
       "       [1.00000000e+00, 7.20000000e+01, 5.18400000e+03],\n",
       "       [1.00000000e+00, 7.58000000e+01, 5.74564000e+03],\n",
       "       [1.00000000e+00, 3.83000000e+01, 1.46689000e+03],\n",
       "       [1.00000000e+00, 4.29000000e+01, 1.84041000e+03],\n",
       "       [1.00000000e+00, 6.41000000e+01, 4.10881000e+03],\n",
       "       [1.00000000e+00, 6.83000000e+01, 4.66489000e+03]])"
      ]
     },
     "execution_count": 74,
     "metadata": {},
     "output_type": "execute_result"
    }
   ],
   "source": [
    "from sklearn.preprocessing import PolynomialFeatures\n",
    "from sklearn import linear_model\n",
    "\n",
    "train_x = np.asanyarray(train[['Injection amount [mg/stroke]']])\n",
    "train_y = np.asanyarray(train[['NOx sensor [ppm]']])\n",
    "\n",
    "test_x = np.asanyarray(test[['Injection amount [mg/stroke]']])\n",
    "test_y = np.asanyarray(test[['NOx sensor [ppm]']])\n",
    "\n",
    "\n",
    "poly = PolynomialFeatures(degree=2)\n",
    "train_x_poly = poly.fit_transform(train_x)\n",
    "train_x_poly"
   ]
  },
  {
   "cell_type": "code",
   "execution_count": 75,
   "metadata": {},
   "outputs": [
    {
     "name": "stdout",
     "output_type": "stream",
     "text": [
      "Coefficients:  [[ 0.          0.77046856 -0.00640112]]\n",
      "Intercept:  [318.72469114]\n"
     ]
    }
   ],
   "source": [
    "clf = linear_model.LinearRegression()\n",
    "train_y_ = clf.fit(train_x_poly, train_y)\n",
    "# The coefficients\n",
    "print ('Coefficients: ', clf.coef_)\n",
    "print ('Intercept: ',clf.intercept_)"
   ]
  },
  {
   "cell_type": "code",
   "execution_count": 76,
   "metadata": {},
   "outputs": [
    {
     "data": {
      "text/plain": [
       "<matplotlib.legend.Legend at 0x20931e52548>"
      ]
     },
     "execution_count": 76,
     "metadata": {},
     "output_type": "execute_result"
    },
    {
     "data": {
      "image/png": "[encoded data removed]",
      "text/plain": [
       "<Figure size 432x288 with 1 Axes>"
      ]
     },
     "metadata": {
      "needs_background": "light"
     },
     "output_type": "display_data"
    }
   ],
   "source": [
    "plt.scatter(train['Injection amount [mg/stroke]'], train['NOx sensor [ppm]'],  color='blue',label = 'training data')\n",
    "XX = np.arange(10.0, 120.0, 0.1)\n",
    "yy = clf.intercept_[0]+ clf.coef_[0][1]*XX+ clf.coef_[0][2]*np.power(XX, 2)\n",
    "plt.plot(XX, yy, '-r' )\n",
    "plt.xlabel(\"Injection amount [mg/stroke]\")\n",
    "plt.ylabel(\"NOx sensor [ppm]\")\n",
    "plt.legend()"
   ]
  },
  {
   "cell_type": "markdown",
   "metadata": {},
   "source": [
    "### Evaluation"
   ]
  },
  {
   "cell_type": "code",
   "execution_count": 78,
   "metadata": {},
   "outputs": [
    {
     "name": "stdout",
     "output_type": "stream",
     "text": [
      "Mean absolute error: 158.05\n",
      "Residual sum of squares (MSE): 40081.45\n",
      "R2-score: -4038.93\n"
     ]
    }
   ],
   "source": [
    "from sklearn.metrics import r2_score\n",
    "\n",
    "test_x_poly = poly.fit_transform(test_x)\n",
    "test_y_ = clf.predict(test_x_poly)\n",
    "\n",
    "print(\"Mean absolute error: %.2f\" % np.mean(np.absolute(test_y_ - test_y)))\n",
    "print(\"Residual sum of squares (MSE): %.2f\" % np.mean((test_y_ - test_y) ** 2))\n",
    "print(\"R2-score: %.2f\" % r2_score(test_y_ , test_y) )"
   ]
  },
  {
   "cell_type": "markdown",
   "metadata": {},
   "source": [
    "### Nonlinear multiple regression"
   ]
  },
  {
   "cell_type": "code",
   "execution_count": 99,
   "metadata": {},
   "outputs": [
    {
     "data": {
      "text/plain": [
       "array([[1.00000000e+00, 1.01297243e+03, 1.78426209e+01, ...,\n",
       "        3.18359119e+02, 1.87188403e+05, 1.10062807e+08],\n",
       "       [1.00000000e+00, 1.01332606e+03, 2.18350406e+01, ...,\n",
       "        4.76768997e+02, 2.37006123e+05, 1.17817858e+08],\n",
       "       [1.00000000e+00, 1.01306124e+03, 2.66076442e+01, ...,\n",
       "        7.07966728e+02, 3.14550300e+05, 1.39755002e+08],\n",
       "       ...,\n",
       "       [1.00000000e+00, 2.50400000e+03, 4.29000000e+01, ...,\n",
       "        1.84041000e+03, 6.56198400e+05, 2.33967616e+08],\n",
       "       [1.00000000e+00, 2.49800000e+03, 6.41000000e+01, ...,\n",
       "        4.10881000e+03, 9.37590700e+05, 2.13949129e+08],\n",
       "       [1.00000000e+00, 2.50000000e+03, 6.83000000e+01, ...,\n",
       "        4.66489000e+03, 1.00803970e+06, 2.17828081e+08]])"
      ]
     },
     "execution_count": 99,
     "metadata": {},
     "output_type": "execute_result"
    }
   ],
   "source": [
    "from sklearn.preprocessing import PolynomialFeatures\n",
    "from sklearn import linear_model\n",
    "\n",
    "train_x = np.asanyarray(train[['Engine speed [rpm]','Injection amount [mg/stroke]','Fuel Rail Pressure Measured [psi]']])\n",
    "train_y = np.asanyarray(train[['NOx sensor [ppm]']])\n",
    "\n",
    "test_x = np.asanyarray(test[['Engine speed [rpm]','Injection amount [mg/stroke]','Fuel Rail Pressure Measured [psi]']])\n",
    "test_y = np.asanyarray(test[['NOx sensor [ppm]']])\n",
    "\n",
    "\n",
    "poly = PolynomialFeatures(degree=2)\n",
    "train_x_poly = poly.fit_transform(train_x)\n",
    "train_x_poly"
   ]
  },
  {
   "cell_type": "code",
   "execution_count": 97,
   "metadata": {},
   "outputs": [
    {
     "name": "stdout",
     "output_type": "stream",
     "text": [
      "Coefficients:  [[ 0.00000000e+00 -9.14204397e-01 -1.07602129e+00 -2.55178270e-02\n",
      "   5.04550359e-04 -9.29701286e-03 -6.31942333e-05 -1.84909206e-02\n",
      "   1.82412006e-03  2.86119878e-06]]\n",
      "Intercept:  [1322.82088679]\n"
     ]
    }
   ],
   "source": [
    "clf = linear_model.LinearRegression()\n",
    "train_y_ = clf.fit(train_x_poly, train_y)\n",
    "# The coefficients\n",
    "print ('Coefficients: ', clf.coef_)\n",
    "print ('Intercept: ',clf.intercept_)"
   ]
  },
  {
   "cell_type": "code",
   "execution_count": 98,
   "metadata": {},
   "outputs": [
    {
     "ename": "ValueError",
     "evalue": "matmul: Input operand 1 has a mismatch in its core dimension 0, with gufunc signature (n?,k),(k,m?)->(n?,m?) (size 10 is different from 3)",
     "output_type": "error",
     "traceback": [
      "\u001b[1;31m---------------------------------------------------------------------------\u001b[0m",
      "\u001b[1;31mValueError\u001b[0m                                Traceback (most recent call last)",
      "\u001b[1;32m<ipython-input-98-946ad0be4301>\u001b[0m in \u001b[0;36m<module>\u001b[1;34m\u001b[0m\n\u001b[1;32m----> 1\u001b[1;33m \u001b[0my_hat_train\u001b[0m \u001b[1;33m=\u001b[0m \u001b[0mclf\u001b[0m\u001b[1;33m.\u001b[0m\u001b[0mpredict\u001b[0m\u001b[1;33m(\u001b[0m\u001b[0mtrain\u001b[0m\u001b[1;33m[\u001b[0m\u001b[1;33m[\u001b[0m\u001b[1;34m'Engine speed [rpm]'\u001b[0m\u001b[1;33m,\u001b[0m\u001b[1;34m'Injection amount [mg/stroke]'\u001b[0m\u001b[1;33m,\u001b[0m\u001b[1;34m'Fuel Rail Pressure Measured [psi]'\u001b[0m\u001b[1;33m]\u001b[0m\u001b[1;33m]\u001b[0m\u001b[1;33m)\u001b[0m\u001b[1;33m\u001b[0m\u001b[1;33m\u001b[0m\u001b[0m\n\u001b[0m\u001b[0;32m      2\u001b[0m \u001b[0my_hat_test\u001b[0m \u001b[1;33m=\u001b[0m \u001b[0mclf\u001b[0m\u001b[1;33m.\u001b[0m\u001b[0mpredict\u001b[0m\u001b[1;33m(\u001b[0m\u001b[0mtest\u001b[0m\u001b[1;33m[\u001b[0m\u001b[1;33m[\u001b[0m\u001b[1;34m'Engine speed [rpm]'\u001b[0m\u001b[1;33m,\u001b[0m\u001b[1;34m'Injection amount [mg/stroke]'\u001b[0m\u001b[1;33m,\u001b[0m\u001b[1;34m'Fuel Rail Pressure Measured [psi]'\u001b[0m\u001b[1;33m]\u001b[0m\u001b[1;33m]\u001b[0m\u001b[1;33m)\u001b[0m\u001b[1;33m\u001b[0m\u001b[1;33m\u001b[0m\u001b[0m\n\u001b[0;32m      3\u001b[0m \u001b[1;33m\u001b[0m\u001b[0m\n\u001b[0;32m      4\u001b[0m \u001b[1;33m\u001b[0m\u001b[0m\n\u001b[0;32m      5\u001b[0m \u001b[0mplt\u001b[0m\u001b[1;33m.\u001b[0m\u001b[0mplot\u001b[0m\u001b[1;33m(\u001b[0m\u001b[1;33m[\u001b[0m\u001b[1;33m-\u001b[0m\u001b[1;36m50\u001b[0m\u001b[1;33m,\u001b[0m\u001b[1;36m1050\u001b[0m\u001b[1;33m]\u001b[0m\u001b[1;33m,\u001b[0m\u001b[1;33m[\u001b[0m\u001b[1;33m-\u001b[0m\u001b[1;36m50\u001b[0m\u001b[1;33m,\u001b[0m\u001b[1;36m1050\u001b[0m\u001b[1;33m]\u001b[0m\u001b[1;33m,\u001b[0m  \u001b[0mcolor\u001b[0m\u001b[1;33m=\u001b[0m\u001b[1;34m'crimson'\u001b[0m\u001b[1;33m)\u001b[0m\u001b[1;33m\u001b[0m\u001b[1;33m\u001b[0m\u001b[0m\n",
      "\u001b[1;32mD:\\Users\\norouziy\\Anaconda3\\lib\\site-packages\\sklearn\\linear_model\\_base.py\u001b[0m in \u001b[0;36mpredict\u001b[1;34m(self, X)\u001b[0m\n\u001b[0;32m    223\u001b[0m             \u001b[0mReturns\u001b[0m \u001b[0mpredicted\u001b[0m \u001b[0mvalues\u001b[0m\u001b[1;33m.\u001b[0m\u001b[1;33m\u001b[0m\u001b[1;33m\u001b[0m\u001b[0m\n\u001b[0;32m    224\u001b[0m         \"\"\"\n\u001b[1;32m--> 225\u001b[1;33m         \u001b[1;32mreturn\u001b[0m \u001b[0mself\u001b[0m\u001b[1;33m.\u001b[0m\u001b[0m_decision_function\u001b[0m\u001b[1;33m(\u001b[0m\u001b[0mX\u001b[0m\u001b[1;33m)\u001b[0m\u001b[1;33m\u001b[0m\u001b[1;33m\u001b[0m\u001b[0m\n\u001b[0m\u001b[0;32m    226\u001b[0m \u001b[1;33m\u001b[0m\u001b[0m\n\u001b[0;32m    227\u001b[0m     \u001b[0m_preprocess_data\u001b[0m \u001b[1;33m=\u001b[0m \u001b[0mstaticmethod\u001b[0m\u001b[1;33m(\u001b[0m\u001b[0m_preprocess_data\u001b[0m\u001b[1;33m)\u001b[0m\u001b[1;33m\u001b[0m\u001b[1;33m\u001b[0m\u001b[0m\n",
      "\u001b[1;32mD:\\Users\\norouziy\\Anaconda3\\lib\\site-packages\\sklearn\\linear_model\\_base.py\u001b[0m in \u001b[0;36m_decision_function\u001b[1;34m(self, X)\u001b[0m\n\u001b[0;32m    207\u001b[0m         \u001b[0mX\u001b[0m \u001b[1;33m=\u001b[0m \u001b[0mcheck_array\u001b[0m\u001b[1;33m(\u001b[0m\u001b[0mX\u001b[0m\u001b[1;33m,\u001b[0m \u001b[0maccept_sparse\u001b[0m\u001b[1;33m=\u001b[0m\u001b[1;33m[\u001b[0m\u001b[1;34m'csr'\u001b[0m\u001b[1;33m,\u001b[0m \u001b[1;34m'csc'\u001b[0m\u001b[1;33m,\u001b[0m \u001b[1;34m'coo'\u001b[0m\u001b[1;33m]\u001b[0m\u001b[1;33m)\u001b[0m\u001b[1;33m\u001b[0m\u001b[1;33m\u001b[0m\u001b[0m\n\u001b[0;32m    208\u001b[0m         return safe_sparse_dot(X, self.coef_.T,\n\u001b[1;32m--> 209\u001b[1;33m                                dense_output=True) + self.intercept_\n\u001b[0m\u001b[0;32m    210\u001b[0m \u001b[1;33m\u001b[0m\u001b[0m\n\u001b[0;32m    211\u001b[0m     \u001b[1;32mdef\u001b[0m \u001b[0mpredict\u001b[0m\u001b[1;33m(\u001b[0m\u001b[0mself\u001b[0m\u001b[1;33m,\u001b[0m \u001b[0mX\u001b[0m\u001b[1;33m)\u001b[0m\u001b[1;33m:\u001b[0m\u001b[1;33m\u001b[0m\u001b[1;33m\u001b[0m\u001b[0m\n",
      "\u001b[1;32mD:\\Users\\norouziy\\Anaconda3\\lib\\site-packages\\sklearn\\utils\\extmath.py\u001b[0m in \u001b[0;36msafe_sparse_dot\u001b[1;34m(a, b, dense_output)\u001b[0m\n\u001b[0;32m    149\u001b[0m             \u001b[0mret\u001b[0m \u001b[1;33m=\u001b[0m \u001b[0mnp\u001b[0m\u001b[1;33m.\u001b[0m\u001b[0mdot\u001b[0m\u001b[1;33m(\u001b[0m\u001b[0ma\u001b[0m\u001b[1;33m,\u001b[0m \u001b[0mb\u001b[0m\u001b[1;33m)\u001b[0m\u001b[1;33m\u001b[0m\u001b[1;33m\u001b[0m\u001b[0m\n\u001b[0;32m    150\u001b[0m     \u001b[1;32melse\u001b[0m\u001b[1;33m:\u001b[0m\u001b[1;33m\u001b[0m\u001b[1;33m\u001b[0m\u001b[0m\n\u001b[1;32m--> 151\u001b[1;33m         \u001b[0mret\u001b[0m \u001b[1;33m=\u001b[0m \u001b[0ma\u001b[0m \u001b[1;33m@\u001b[0m \u001b[0mb\u001b[0m\u001b[1;33m\u001b[0m\u001b[1;33m\u001b[0m\u001b[0m\n\u001b[0m\u001b[0;32m    152\u001b[0m \u001b[1;33m\u001b[0m\u001b[0m\n\u001b[0;32m    153\u001b[0m     if (sparse.issparse(a) and sparse.issparse(b)\n",
      "\u001b[1;31mValueError\u001b[0m: matmul: Input operand 1 has a mismatch in its core dimension 0, with gufunc signature (n?,k),(k,m?)->(n?,m?) (size 10 is different from 3)"
     ]
    }
   ],
   "source": [
    "y_hat_train = clf.predict(train[['Engine speed [rpm]','Injection amount [mg/stroke]','Fuel Rail Pressure Measured [psi]']])\n",
    "y_hat_test = clf.predict(test[['Engine speed [rpm]','Injection amount [mg/stroke]','Fuel Rail Pressure Measured [psi]']])\n",
    "\n",
    "\n",
    "plt.plot([-50,1050],[-50,1050],  color='crimson')\n",
    "plt.scatter(y_hat_test, test['NOx sensor [ppm]'],  color='deepskyblue',label = 'test data')\n",
    "plt.scatter(y_hat_train, train['NOx sensor [ppm]'],  color='black',label = 'train data')\n",
    "# plt.plot(train_x, regr.coef_[0][0]*train_x + regr.intercept_[0], '-r', label = 'regression model')\n",
    "plt.xlabel(\"NOx prediction [ppm]\")\n",
    "plt.ylabel(\"NOx experiment [ppm]\")\n",
    "plt.xlim(0, 1000)\n",
    "plt.ylim(0, 1000)\n",
    "plt.gca().set_aspect('equal', adjustable='box')\n",
    "plt.legend()"
   ]
  },
  {
   "cell_type": "code",
   "execution_count": null,
   "metadata": {},
   "outputs": [],
   "source": []
  }
 ],
 "metadata": {
  "kernelspec": {
   "display_name": "Python 3",
   "language": "python",
   "name": "python3"
  },
  "language_info": {
   "codemirror_mode": {
    "name": "ipython",
    "version": 3
   },
   "file_extension": ".py",
   "mimetype": "text/x-python",
   "name": "python",
   "nbconvert_exporter": "python",
   "pygments_lexer": "ipython3",
   "version": "3.7.6"
  }
 },
 "nbformat": 4,
 "nbformat_minor": 4
}
